{
 "cells": [
  {
   "cell_type": "code",
   "execution_count": null,
   "metadata": {
    "collapsed": true,
    "pycharm": {
     "name": "#%% Prepare positive examples and save them to a file\n"
    }
   },
   "outputs": [],
   "source": [
    "import numpy as np\n",
    "import os\n",
    "from components.network import Helper, Network\n",
    "\n",
    "positives = Helper.get_positives(number_of_samples=500)\n",
    "filepath = os.path.join(os.path.pardir, 'data/train_test_file_small.npz')\n",
    "np.savez(filepath, positives=positives)"
   ]
  },
  {
   "cell_type": "code",
   "execution_count": null,
   "outputs": [
    {
     "name": "stdout",
     "output_type": "stream",
     "text": [
      "Number of all negative samples: 6965\n",
      "Length of the specimen should be 660719\n"
     ]
    }
   ],
   "source": [
    "import os\n",
    "import numpy as np\n",
    "import librosa\n",
    "from components.network import Helper\n",
    "\n",
    "filepath = os.path.join(os.path.pardir, 'data/train_test_file_small.npz')\n",
    "file = np.load(filepath, allow_pickle=True)\n",
    "positives = file['positives']\n",
    "negatives = Helper.get_negatives(500, sample_length=660719)\n",
    "train, test = Helper.prepare_dataset(positives, negatives, train_to_test_ratio=0.8)\n",
    "\n",
    "train_mel = Helper.convert_to_feature(train, librosa.feature.melspectrogram)\n",
    "test_mel = Helper.convert_to_feature(test, librosa.feature.melspectrogram)\n",
    "x_train_mel, y_train_mel = Helper.get_x_y(train_mel)\n",
    "x_test_mel, y_test_mel = Helper.get_x_y(test_mel)\n",
    "\n",
    "train_tempo = Helper.convert_to_feature(train, librosa.feature.tempogram)\n",
    "test_tempo = Helper.convert_to_feature(test, librosa.feature.tempogram)\n",
    "x_train_tempo, y_train_tempo = Helper.get_x_y(train_tempo)\n",
    "x_test_tempo, y_test_tempo = Helper.get_x_y(test_tempo)\n",
    "\n",
    "train_rms = Helper.convert_to_feature(train, librosa.feature.rms)\n",
    "test_rms = Helper.convert_to_feature(test, librosa.feature.rms)\n",
    "x_train_rms, y_train_rms = Helper.get_x_y(train_rms)\n",
    "x_test_rms, y_test_rms = Helper.get_x_y(test_rms)\n",
    "\n",
    "train_mfcc = Helper.convert_to_feature(train, librosa.feature.mfcc)\n",
    "test_mfcc = Helper.convert_to_feature(test, librosa.feature.mfcc)\n",
    "x_train_mfcc, y_train_mfcc = Helper.get_x_y(train_mfcc)\n",
    "x_test_mfcc, y_test_mfcc = Helper.get_x_y(test_mfcc)\n",
    "\n",
    "train_chroma = Helper.convert_to_feature(train, librosa.feature.chroma_stft)\n",
    "test_chroma = Helper.convert_to_feature(test, librosa.feature.chroma_stft)\n",
    "x_train_chroma, y_train_chroma = Helper.get_x_y(train_chroma)\n",
    "x_test_chroma, y_test_chroma = Helper.get_x_y(test_chroma)\n"
   ],
   "metadata": {
    "collapsed": false,
    "pycharm": {
     "name": "#%% Load saved positives and generate negatives\n",
     "is_executing": true
    }
   }
  },
  {
   "cell_type": "code",
   "execution_count": null,
   "outputs": [],
   "source": [
    "from components.network import Network\n",
    "\n",
    "network_mel = Network(input_shape=x_train_mel[0].shape)\n",
    "network_tempo = Network(input_shape=x_train_tempo[0].shape)\n",
    "network_rms = Network(input_shape=x_train_rms[0].shape)\n",
    "network_mfcc = Network(input_shape=x_train_mfcc[0].shape)\n",
    "network_chroma = Network(input_shape=x_train_chroma[0].shape)"
   ],
   "metadata": {
    "collapsed": false,
    "pycharm": {
     "name": "#%% Create networks\n",
     "is_executing": true
    }
   }
  },
  {
   "cell_type": "code",
   "execution_count": 1,
   "outputs": [
    {
     "name": "stderr",
     "output_type": "stream",
     "text": [
      "Using plaidml.keras.backend backend.\n",
      "INFO:plaidml:Opening device \"opencl_amd_gfx1010.0\"\n"
     ]
    }
   ],
   "source": [
    "import os\n",
    "from components.network import Network\n",
    "\n",
    "network_mel = Network(input_shape=(128, 1291))\n",
    "network_tempo = Network(input_shape=(384, 1291))\n",
    "network_rms = Network(input_shape=(1, 1291))\n",
    "network_mfcc = Network(input_shape=(20, 1291))\n",
    "network_chroma = Network(input_shape=(12, 1291))\n",
    "\n",
    "network_mel.load_model(os.path.join(os.path.pardir, 'models/model_mel'))\n",
    "network_tempo.load_model(os.path.join(os.path.pardir, 'models/model_tempo'))\n",
    "network_rms.load_model(os.path.join(os.path.pardir, 'models/model_rms'))\n",
    "network_mfcc.load_model(os.path.join(os.path.pardir, 'models/model_mfcc'))\n",
    "network_chroma.load_model(os.path.join(os.path.pardir, 'models/model_chroma'))"
   ],
   "metadata": {
    "collapsed": false,
    "pycharm": {
     "name": "#%% Network loading\n"
    }
   }
  },
  {
   "cell_type": "code",
   "execution_count": null,
   "outputs": [],
   "source": [
    "network_mel.train(x_train_mel, y_train_mel, epochs=40, batch_size=100)\n",
    "network_tempo.train(x_train_tempo, y_train_tempo, epochs=40, batch_size=100)\n",
    "network_rms.train(x_train_rms, y_train_rms, epochs=40, batch_size=100)\n",
    "network_mfcc.train(x_train_mfcc, y_train_mfcc, epochs=40, batch_size=100)\n",
    "network_chroma.train(x_train_chroma, y_train_chroma, epochs=40, batch_size=100)\n",
    "\n",
    "network_mel.evaluate(x_test_mel, y_test_mel)\n",
    "network_tempo.evaluate(x_test_tempo, y_test_tempo)\n",
    "network_rms.evaluate(x_test_rms, y_test_rms)\n",
    "network_mfcc.evaluate(x_test_mfcc, y_test_mfcc)\n",
    "network_chroma.evaluate(x_test_chroma, y_test_chroma)"
   ],
   "metadata": {
    "collapsed": false,
    "pycharm": {
     "name": "#%% Train networks\n",
     "is_executing": true
    }
   }
  },
  {
   "cell_type": "code",
   "execution_count": null,
   "outputs": [],
   "source": [
    "import os\n",
    "\n",
    "network_mel.save_model(os.path.join(os.path.pardir, f'models/model_mel'))\n",
    "network_tempo.save_model(os.path.join(os.path.pardir, f'models/model_tempo'))\n",
    "network_rms.save_model(os.path.join(os.path.pardir, f'models/model_rms'))\n",
    "network_mfcc.save_model(os.path.join(os.path.pardir, f'models/model_mfcc'))\n",
    "network_chroma.save_model(os.path.join(os.path.pardir, f'models/model_chroma'))"
   ],
   "metadata": {
    "collapsed": false,
    "pycharm": {
     "name": "#%% Save model\n",
     "is_executing": true
    }
   }
  },
  {
   "cell_type": "code",
   "execution_count": 2,
   "outputs": [
    {
     "name": "stdout",
     "output_type": "stream",
     "text": [
      "Started fitness calculation --------------------\n",
      "Started specimen conversion                    |\n",
      "Finished specimen conversion                   v\n",
      "Finished network 1/5 in 14.466999530792236s\n",
      "Finished network 2/5 in 15.361998319625854s\n",
      "Finished network 3/5 in 13.654000759124756s\n",
      "Finished network 4/5 in 14.146999835968018s\n",
      "Finished network 5/5 in 14.126000881195068s\n",
      "Specimen got marks: [0.42952165, 0.0061067496, 0.998752, 1.0, 0.004443814]\n",
      "Specimen got marks: [0.43338597, 0.0044600097, 0.9987538, 1.0, 0.0018101617]\n",
      "Specimen got marks: [0.44725868, 0.0067640236, 0.9987476, 1.0, 0.02432321]\n",
      "Specimen got marks: [0.43888065, 0.0065117762, 0.998746, 1.0, 0.0029298265]\n",
      "Specimen got marks: [0.4417936, 0.005105832, 0.99874276, 1.0, 0.0024577563]\n",
      "Specimen got marks: [0.44273752, 0.007899164, 0.99874514, 1.0, 0.0036719101]\n",
      "Specimen got marks: [0.42880282, 0.0075954963, 0.9987477, 1.0, 0.0019098994]\n",
      "Specimen got marks: [0.43765935, 0.007641598, 0.99875057, 1.0, 0.0017498852]\n",
      "Specimen got marks: [0.4351852, 0.00892698, 0.99874526, 1.0, 0.0038587486]\n",
      "Specimen got marks: [0.44622636, 0.0055468488, 0.99874854, 1.0, 0.006339288]\n",
      "Specimen got marks: [0.44504616, 0.009086877, 0.99874794, 1.0, 0.002674042]\n",
      "Specimen got marks: [0.43393585, 0.009053486, 0.9987456, 1.0, 0.0038124397]\n",
      "Specimen got marks: [0.43660375, 0.0074136998, 0.9987431, 1.0, 0.0011026844]\n",
      "Specimen got marks: [0.44630527, 0.008205218, 0.9987482, 1.0, 0.00315498]\n",
      "Specimen got marks: [0.4315122, 0.009309199, 0.99874073, 1.0, 0.003476556]\n",
      "Specimen got marks: [0.44672602, 0.0071362653, 0.9987488, 1.0, 0.0028288586]\n",
      "Specimen got marks: [0.44075757, 0.0075706257, 0.9987552, 1.0, 0.0020311426]\n",
      "Specimen got marks: [0.4350189, 0.010043648, 0.9987357, 1.0, 0.0018868273]\n",
      "Specimen got marks: [0.44250926, 0.006550705, 0.99874747, 1.0, 0.003947913]\n",
      "Specimen got marks: [0.42832536, 0.005565025, 0.99874574, 1.0, 0.001893768]\n",
      "Specimen got marks: [0.4339708, 0.0060278466, 0.99874204, 1.0, 0.0013911837]\n",
      "Specimen got marks: [0.43033084, 0.008982703, 0.9987464, 1.0, 0.0011494837]\n",
      "Specimen got marks: [0.44719696, 0.0063662915, 0.99874735, 1.0, 0.0024621913]\n",
      "Specimen got marks: [0.42455176, 0.006595818, 0.9987429, 1.0, 0.002772989]\n",
      "Specimen got marks: [0.44485945, 0.008509653, 0.99875367, 1.0, 0.0023459054]\n",
      "Specimen got marks: [0.44072223, 0.0067232815, 0.99874395, 1.0, 0.0030863185]\n",
      "Specimen got marks: [0.4400308, 0.0077370056, 0.9987477, 1.0, 0.0031686183]\n",
      "Specimen got marks: [0.41618454, 0.008230037, 0.9987464, 1.0, 0.006296136]\n",
      "Specimen got marks: [0.4325045, 0.0075553493, 0.9987393, 1.0, 0.0048070373]\n",
      "Specimen got marks: [0.44130278, 0.0057698754, 0.99874073, 1.0, 0.0025520027]\n",
      "Specimen got marks: [0.45075563, 0.007899496, 0.9987424, 1.0, 0.0034590005]\n",
      "Specimen got marks: [0.44189855, 0.007390355, 0.9987509, 1.0, 0.008330754]\n",
      "Specimen got marks: [0.4333472, 0.00843347, 0.99873966, 1.0, 0.0033368946]\n",
      "Specimen got marks: [0.45557696, 0.0075418223, 0.99875116, 1.0, 0.0039621913]\n",
      "Specimen got marks: [0.4449869, 0.006574285, 0.99874514, 1.0, 0.0026591164]\n",
      "Specimen got marks: [0.44094682, 0.007221812, 0.99875236, 1.0, 0.00613577]\n",
      "Specimen got marks: [0.42826223, 0.008132934, 0.99874514, 1.0, 0.0018007765]\n",
      "Specimen got marks: [0.44395113, 0.008395171, 0.998746, 1.0, 0.0023259802]\n",
      "Specimen got marks: [0.45090708, 0.008807776, 0.99873835, 1.0, 0.00551817]\n",
      "Specimen got marks: [0.43068144, 0.0068500093, 0.9987448, 1.0, 0.0030083342]\n",
      "Specimen got marks: [0.43950897, 0.006086638, 0.99875164, 1.0, 0.0034360944]\n",
      "Specimen got marks: [0.44618827, 0.0070002778, 0.9987424, 1.0, 0.0031064767]\n",
      "Specimen got marks: [0.44758326, 0.0071131373, 0.9987469, 1.0, 0.0022343693]\n",
      "Specimen got marks: [0.434026, 0.008662778, 0.9987399, 1.0, 0.004228726]\n",
      "Specimen got marks: [0.430571, 0.007493645, 0.998746, 1.0, 0.0025410387]\n",
      "Specimen got marks: [0.4444787, 0.009172203, 0.99873596, 1.0, 0.0034961477]\n",
      "Specimen got marks: [0.43518046, 0.007415349, 0.99874586, 1.0, 0.0010428671]\n",
      "Specimen got marks: [0.43849713, 0.007436134, 0.99873406, 1.0, 0.0017462446]\n",
      "Specimen got marks: [0.4302956, 0.006779396, 0.9987488, 1.0, 0.0020948441]\n",
      "Specimen got marks: [0.43327135, 0.0074620517, 0.9987437, 1.0, 0.0039067175]\n",
      "Specimen got marks: [0.42485762, 0.006730565, 0.99874854, 1.0, 0.0035574439]\n",
      "Specimen got marks: [0.44783315, 0.00852841, 0.998745, 1.0, 0.0017386687]\n",
      "Specimen got marks: [0.43416458, 0.00813453, 0.9987494, 1.0, 0.002005549]\n",
      "Specimen got marks: [0.4244903, 0.007919968, 0.99874926, 1.0, 0.0017155736]\n",
      "Specimen got marks: [0.43804204, 0.006725344, 0.99874735, 1.0, 0.003715413]\n",
      "Specimen got marks: [0.43409503, 0.009790309, 0.9987538, 1.0, 0.002207165]\n",
      "Specimen got marks: [0.4313421, 0.0060928473, 0.99873954, 1.0, 0.0037084261]\n",
      "Specimen got marks: [0.43618363, 0.00612006, 0.9987386, 1.0, 0.00485757]\n",
      "Specimen got marks: [0.4485324, 0.0071800286, 0.9987429, 1.0, 0.002861611]\n",
      "Specimen got marks: [0.43184564, 0.0074410485, 0.9987477, 1.0, 0.0038796735]\n",
      "Specimen got marks: [0.44820428, 0.00734158, 0.99875116, 1.0, 0.008557687]\n",
      "Specimen got marks: [0.45441046, 0.008912071, 0.9987562, 1.0, 0.005648119]\n",
      "Specimen got marks: [0.4440695, 0.008371754, 0.9987503, 1.0, 0.0034084697]\n",
      "Specimen got marks: [0.43731883, 0.009050134, 0.9987449, 1.0, 0.0016193117]\n",
      "Specimen got marks: [0.44193858, 0.0082939165, 0.9987478, 1.0, 0.00075008196]\n",
      "Specimen got marks: [0.42987326, 0.0055217133, 0.9987369, 1.0, 0.00414345]\n",
      "Specimen got marks: [0.44787198, 0.0070534986, 0.99874216, 1.0, 0.0012899446]\n",
      "Specimen got marks: [0.42638454, 0.005913623, 0.99874914, 1.0, 0.0028113865]\n",
      "Specimen got marks: [0.4339304, 0.008929318, 0.99875045, 1.0, 0.0033725998]\n",
      "Specimen got marks: [0.43642718, 0.006704251, 0.9987456, 1.0, 0.004029733]\n",
      "Specimen got marks: [0.43574336, 0.007476869, 0.9987444, 1.0, 0.0024044272]\n",
      "Specimen got marks: [0.4367088, 0.0060585653, 0.9987471, 1.0, 0.0020039764]\n",
      "Specimen got marks: [0.43139637, 0.006805117, 0.9987435, 1.0, 0.0018427466]\n",
      "Specimen got marks: [0.44734222, 0.0057055485, 0.9987357, 1.0, 0.003705391]\n",
      "Specimen got marks: [0.4406178, 0.00614398, 0.9987494, 1.0, 0.00223736]\n",
      "Specimen got marks: [0.4380936, 0.007014588, 0.9987465, 1.0, 0.001260435]\n",
      "Specimen got marks: [0.42679074, 0.006546136, 0.99875, 1.0, 0.001631149]\n",
      "Specimen got marks: [0.43613777, 0.0053579104, 0.99874, 1.0, 0.005280202]\n",
      "Specimen got marks: [0.42998475, 0.008335188, 0.9987381, 1.0, 0.0029082012]\n",
      "Specimen got marks: [0.44883338, 0.005226644, 0.9987342, 1.0, 0.0011818456]\n",
      "Specimen got marks: [0.45058662, 0.007844871, 0.9987436, 1.0, 0.0025723544]\n",
      "Specimen got marks: [0.44397974, 0.0076141125, 0.9987411, 1.0, 0.00096678454]\n",
      "Specimen got marks: [0.43704095, 0.008633132, 0.9987423, 1.0, 0.002552077]\n",
      "Specimen got marks: [0.44598594, 0.0080786, 0.99874204, 1.0, 0.0021627191]\n",
      "Specimen got marks: [0.42147937, 0.0070587895, 0.99874145, 1.0, 0.0035879752]\n",
      "Specimen got marks: [0.4404574, 0.007344567, 0.998741, 1.0, 0.005483039]\n",
      "Specimen got marks: [0.45036358, 0.0073007266, 0.99874455, 1.0, 0.0015935546]\n",
      "Specimen got marks: [0.4236933, 0.006078927, 0.9987456, 1.0, 0.0035117348]\n",
      "Specimen got marks: [0.41877174, 0.0050285007, 0.99874276, 1.0, 0.0006916493]\n",
      "Specimen got marks: [0.43275887, 0.007072918, 0.9987338, 1.0, 0.0014313575]\n",
      "Specimen got marks: [0.43550724, 0.006642255, 0.9987534, 1.0, 0.0058257347]\n",
      "Specimen got marks: [0.43410945, 0.0067923805, 0.9987443, 1.0, 0.011983078]\n",
      "Specimen got marks: [0.4426481, 0.0076820846, 0.99874336, 1.0, 0.0022762013]\n",
      "Specimen got marks: [0.44031683, 0.0059366045, 0.9987448, 1.0, 0.004851668]\n",
      "Specimen got marks: [0.44262683, 0.006318512, 0.99874264, 1.0, 0.0015462913]\n",
      "Specimen got marks: [0.43917638, 0.006474547, 0.99874276, 1.0, 0.003717001]\n",
      "Specimen got marks: [0.449721, 0.008108916, 0.9987509, 1.0, 0.001393646]\n",
      "Specimen got marks: [0.4304583, 0.0069047413, 0.9987441, 1.0, 0.002403639]\n",
      "Specimen got marks: [0.45873275, 0.0071559185, 0.99874014, 1.0, 0.002378033]\n",
      "Specimen got marks: [0.4420096, 0.006639157, 0.99874747, 1.0, 0.0031648958]\n",
      "Finished fitness calculation\n",
      "Started epoch 1\n",
      "Started fitness calculation --------------------\n",
      "Started specimen conversion                    |\n"
     ]
    },
    {
     "ename": "KeyboardInterrupt",
     "evalue": "",
     "output_type": "error",
     "traceback": [
      "\u001B[1;31m---------------------------------------------------------------------------\u001B[0m",
      "\u001B[1;31mKeyboardInterrupt\u001B[0m                         Traceback (most recent call last)",
      "\u001B[1;32m<ipython-input-2-18c3973bbd86>\u001B[0m in \u001B[0;36m<module>\u001B[1;34m\u001B[0m\n\u001B[0;32m     10\u001B[0m                       \u001B[0mnumber_of_specimen\u001B[0m\u001B[1;33m=\u001B[0m\u001B[1;36m100\u001B[0m\u001B[1;33m,\u001B[0m\u001B[1;33m\u001B[0m\u001B[1;33m\u001B[0m\u001B[0m\n\u001B[0;32m     11\u001B[0m                       specimen_length=specimen_length, target=None, mutation_chance=0.1, crossover_chance=0.1)\n\u001B[1;32m---> 12\u001B[1;33m \u001B[0mevolution\u001B[0m\u001B[1;33m.\u001B[0m\u001B[0mrun_epochs\u001B[0m\u001B[1;33m(\u001B[0m\u001B[0mnumber_of_epochs\u001B[0m\u001B[1;33m=\u001B[0m\u001B[1;36m100\u001B[0m\u001B[1;33m,\u001B[0m \u001B[0msave\u001B[0m\u001B[1;33m=\u001B[0m\u001B[1;32mTrue\u001B[0m\u001B[1;33m,\u001B[0m \u001B[0msave_as_negative\u001B[0m\u001B[1;33m=\u001B[0m\u001B[1;32mFalse\u001B[0m\u001B[1;33m,\u001B[0m \u001B[0mepsilon\u001B[0m\u001B[1;33m=\u001B[0m\u001B[1;36m0.2\u001B[0m\u001B[1;33m)\u001B[0m\u001B[1;33m\u001B[0m\u001B[1;33m\u001B[0m\u001B[0m\n\u001B[0m\u001B[0;32m     13\u001B[0m \u001B[1;33m\u001B[0m\u001B[0m\n",
      "\u001B[1;32m~\\Desktop\\Musicc\\components\\specimen.py\u001B[0m in \u001B[0;36mrun_epochs\u001B[1;34m(self, number_of_epochs, decreasing_mutation_factor, save, sr, save_as_negative, epsilon)\u001B[0m\n\u001B[0;32m    148\u001B[0m                     \u001B[0mnew_specimens\u001B[0m\u001B[1;33m.\u001B[0m\u001B[0mappend\u001B[0m\u001B[1;33m(\u001B[0m\u001B[0mmother\u001B[0m\u001B[1;33m)\u001B[0m\u001B[1;33m\u001B[0m\u001B[1;33m\u001B[0m\u001B[0m\n\u001B[0;32m    149\u001B[0m             \u001B[0mself\u001B[0m\u001B[1;33m.\u001B[0m\u001B[0mspecimens\u001B[0m \u001B[1;33m=\u001B[0m \u001B[0mnew_specimens\u001B[0m\u001B[1;33m\u001B[0m\u001B[1;33m\u001B[0m\u001B[0m\n\u001B[1;32m--> 150\u001B[1;33m             \u001B[0mself\u001B[0m\u001B[1;33m.\u001B[0m\u001B[0mcalculate_all_fitnesses\u001B[0m\u001B[1;33m(\u001B[0m\u001B[1;33m)\u001B[0m\u001B[1;33m\u001B[0m\u001B[1;33m\u001B[0m\u001B[0m\n\u001B[0m\u001B[0;32m    151\u001B[0m             \u001B[1;32mfor\u001B[0m \u001B[0mspecimen\u001B[0m \u001B[1;32min\u001B[0m \u001B[0mrange\u001B[0m\u001B[1;33m(\u001B[0m\u001B[0mlen\u001B[0m\u001B[1;33m(\u001B[0m\u001B[0mself\u001B[0m\u001B[1;33m.\u001B[0m\u001B[0mspecimens\u001B[0m\u001B[1;33m)\u001B[0m\u001B[1;33m)\u001B[0m\u001B[1;33m:\u001B[0m\u001B[1;33m\u001B[0m\u001B[1;33m\u001B[0m\u001B[0m\n\u001B[0;32m    152\u001B[0m                 \u001B[0mself\u001B[0m\u001B[1;33m.\u001B[0m\u001B[0mspecimens\u001B[0m\u001B[1;33m[\u001B[0m\u001B[0mspecimen\u001B[0m\u001B[1;33m]\u001B[0m\u001B[1;33m.\u001B[0m\u001B[0mset_fitness\u001B[0m\u001B[1;33m(\u001B[0m\u001B[0mself\u001B[0m\u001B[1;33m.\u001B[0m\u001B[0mfitnesses\u001B[0m\u001B[1;33m[\u001B[0m\u001B[0mspecimen\u001B[0m\u001B[1;33m]\u001B[0m\u001B[1;33m)\u001B[0m\u001B[1;33m\u001B[0m\u001B[1;33m\u001B[0m\u001B[0m\n",
      "\u001B[1;32m~\\Desktop\\Musicc\\components\\specimen.py\u001B[0m in \u001B[0;36mcalculate_all_fitnesses\u001B[1;34m(self)\u001B[0m\n\u001B[0;32m     98\u001B[0m         \u001B[1;32mfor\u001B[0m \u001B[0mspecimen\u001B[0m \u001B[1;32min\u001B[0m \u001B[0mself\u001B[0m\u001B[1;33m.\u001B[0m\u001B[0mspecimens\u001B[0m\u001B[1;33m:\u001B[0m\u001B[1;33m\u001B[0m\u001B[1;33m\u001B[0m\u001B[0m\n\u001B[0;32m     99\u001B[0m             \u001B[1;32mfor\u001B[0m \u001B[0mi\u001B[0m\u001B[1;33m,\u001B[0m \u001B[0mfeature\u001B[0m \u001B[1;32min\u001B[0m \u001B[0menumerate\u001B[0m\u001B[1;33m(\u001B[0m\u001B[0mself\u001B[0m\u001B[1;33m.\u001B[0m\u001B[0mfeatures_list\u001B[0m\u001B[1;33m)\u001B[0m\u001B[1;33m:\u001B[0m\u001B[1;33m\u001B[0m\u001B[1;33m\u001B[0m\u001B[0m\n\u001B[1;32m--> 100\u001B[1;33m                 \u001B[0mfeatures\u001B[0m\u001B[1;33m[\u001B[0m\u001B[0mi\u001B[0m\u001B[1;33m]\u001B[0m\u001B[1;33m.\u001B[0m\u001B[0mappend\u001B[0m\u001B[1;33m(\u001B[0m\u001B[0mfeature\u001B[0m\u001B[1;33m(\u001B[0m\u001B[0mspecimen\u001B[0m\u001B[1;33m.\u001B[0m\u001B[0mfeatures\u001B[0m\u001B[1;33m)\u001B[0m\u001B[1;33m)\u001B[0m\u001B[1;33m\u001B[0m\u001B[1;33m\u001B[0m\u001B[0m\n\u001B[0m\u001B[0;32m    101\u001B[0m         \u001B[0mprint\u001B[0m\u001B[1;33m(\u001B[0m\u001B[1;34m'Finished specimen conversion                   v'\u001B[0m\u001B[1;33m)\u001B[0m\u001B[1;33m\u001B[0m\u001B[1;33m\u001B[0m\u001B[0m\n\u001B[0;32m    102\u001B[0m         \u001B[0mtemp\u001B[0m \u001B[1;33m=\u001B[0m \u001B[1;33m[\u001B[0m\u001B[1;33m]\u001B[0m\u001B[1;33m\u001B[0m\u001B[1;33m\u001B[0m\u001B[0m\n",
      "\u001B[1;32m~\\Miniconda3\\envs\\Musicc\\lib\\site-packages\\librosa\\feature\\rhythm.py\u001B[0m in \u001B[0;36mtempogram\u001B[1;34m(y, sr, onset_envelope, hop_length, win_length, center, window, norm)\u001B[0m\n\u001B[0;32m    184\u001B[0m     \u001B[1;31m# Window, autocorrelate, and normalize\u001B[0m\u001B[1;33m\u001B[0m\u001B[1;33m\u001B[0m\u001B[1;33m\u001B[0m\u001B[0m\n\u001B[0;32m    185\u001B[0m     return util.normalize(\n\u001B[1;32m--> 186\u001B[1;33m         \u001B[0mautocorrelate\u001B[0m\u001B[1;33m(\u001B[0m\u001B[0modf_frame\u001B[0m \u001B[1;33m*\u001B[0m \u001B[0mac_window\u001B[0m\u001B[1;33m[\u001B[0m\u001B[1;33m:\u001B[0m\u001B[1;33m,\u001B[0m \u001B[0mnp\u001B[0m\u001B[1;33m.\u001B[0m\u001B[0mnewaxis\u001B[0m\u001B[1;33m]\u001B[0m\u001B[1;33m,\u001B[0m \u001B[0maxis\u001B[0m\u001B[1;33m=\u001B[0m\u001B[1;36m0\u001B[0m\u001B[1;33m)\u001B[0m\u001B[1;33m,\u001B[0m \u001B[0mnorm\u001B[0m\u001B[1;33m=\u001B[0m\u001B[0mnorm\u001B[0m\u001B[1;33m,\u001B[0m \u001B[0maxis\u001B[0m\u001B[1;33m=\u001B[0m\u001B[1;36m0\u001B[0m\u001B[1;33m\u001B[0m\u001B[1;33m\u001B[0m\u001B[0m\n\u001B[0m\u001B[0;32m    187\u001B[0m     )\n\u001B[0;32m    188\u001B[0m \u001B[1;33m\u001B[0m\u001B[0m\n",
      "\u001B[1;32m~\\Miniconda3\\envs\\Musicc\\lib\\site-packages\\librosa\\core\\audio.py\u001B[0m in \u001B[0;36mautocorrelate\u001B[1;34m(y, max_size, axis)\u001B[0m\n\u001B[0;32m    793\u001B[0m     \u001B[1;31m# Pad out the signal to support full-length auto-correlation.\u001B[0m\u001B[1;33m\u001B[0m\u001B[1;33m\u001B[0m\u001B[1;33m\u001B[0m\u001B[0m\n\u001B[0;32m    794\u001B[0m     \u001B[0mfft\u001B[0m \u001B[1;33m=\u001B[0m \u001B[0mget_fftlib\u001B[0m\u001B[1;33m(\u001B[0m\u001B[1;33m)\u001B[0m\u001B[1;33m\u001B[0m\u001B[1;33m\u001B[0m\u001B[0m\n\u001B[1;32m--> 795\u001B[1;33m     \u001B[0mpowspec\u001B[0m \u001B[1;33m=\u001B[0m \u001B[0mnp\u001B[0m\u001B[1;33m.\u001B[0m\u001B[0mabs\u001B[0m\u001B[1;33m(\u001B[0m\u001B[0mfft\u001B[0m\u001B[1;33m.\u001B[0m\u001B[0mfft\u001B[0m\u001B[1;33m(\u001B[0m\u001B[0my\u001B[0m\u001B[1;33m,\u001B[0m \u001B[0mn\u001B[0m\u001B[1;33m=\u001B[0m\u001B[1;36m2\u001B[0m \u001B[1;33m*\u001B[0m \u001B[0my\u001B[0m\u001B[1;33m.\u001B[0m\u001B[0mshape\u001B[0m\u001B[1;33m[\u001B[0m\u001B[0maxis\u001B[0m\u001B[1;33m]\u001B[0m \u001B[1;33m+\u001B[0m \u001B[1;36m1\u001B[0m\u001B[1;33m,\u001B[0m \u001B[0maxis\u001B[0m\u001B[1;33m=\u001B[0m\u001B[0maxis\u001B[0m\u001B[1;33m)\u001B[0m\u001B[1;33m)\u001B[0m \u001B[1;33m**\u001B[0m \u001B[1;36m2\u001B[0m\u001B[1;33m\u001B[0m\u001B[1;33m\u001B[0m\u001B[0m\n\u001B[0m\u001B[0;32m    796\u001B[0m \u001B[1;33m\u001B[0m\u001B[0m\n\u001B[0;32m    797\u001B[0m     \u001B[1;31m# Convert back to time domain\u001B[0m\u001B[1;33m\u001B[0m\u001B[1;33m\u001B[0m\u001B[1;33m\u001B[0m\u001B[0m\n",
      "\u001B[1;32m<__array_function__ internals>\u001B[0m in \u001B[0;36mfft\u001B[1;34m(*args, **kwargs)\u001B[0m\n",
      "\u001B[1;32m~\\Miniconda3\\envs\\Musicc\\lib\\site-packages\\numpy\\fft\\_pocketfft.py\u001B[0m in \u001B[0;36mfft\u001B[1;34m(a, n, axis, norm)\u001B[0m\n\u001B[0;32m    183\u001B[0m     \u001B[1;32mif\u001B[0m \u001B[0mnorm\u001B[0m \u001B[1;32mis\u001B[0m \u001B[1;32mnot\u001B[0m \u001B[1;32mNone\u001B[0m \u001B[1;32mand\u001B[0m \u001B[0m_unitary\u001B[0m\u001B[1;33m(\u001B[0m\u001B[0mnorm\u001B[0m\u001B[1;33m)\u001B[0m\u001B[1;33m:\u001B[0m\u001B[1;33m\u001B[0m\u001B[1;33m\u001B[0m\u001B[0m\n\u001B[0;32m    184\u001B[0m         \u001B[0minv_norm\u001B[0m \u001B[1;33m=\u001B[0m \u001B[0msqrt\u001B[0m\u001B[1;33m(\u001B[0m\u001B[0mn\u001B[0m\u001B[1;33m)\u001B[0m\u001B[1;33m\u001B[0m\u001B[1;33m\u001B[0m\u001B[0m\n\u001B[1;32m--> 185\u001B[1;33m     \u001B[0moutput\u001B[0m \u001B[1;33m=\u001B[0m \u001B[0m_raw_fft\u001B[0m\u001B[1;33m(\u001B[0m\u001B[0ma\u001B[0m\u001B[1;33m,\u001B[0m \u001B[0mn\u001B[0m\u001B[1;33m,\u001B[0m \u001B[0maxis\u001B[0m\u001B[1;33m,\u001B[0m \u001B[1;32mFalse\u001B[0m\u001B[1;33m,\u001B[0m \u001B[1;32mTrue\u001B[0m\u001B[1;33m,\u001B[0m \u001B[0minv_norm\u001B[0m\u001B[1;33m)\u001B[0m\u001B[1;33m\u001B[0m\u001B[1;33m\u001B[0m\u001B[0m\n\u001B[0m\u001B[0;32m    186\u001B[0m     \u001B[1;32mreturn\u001B[0m \u001B[0moutput\u001B[0m\u001B[1;33m\u001B[0m\u001B[1;33m\u001B[0m\u001B[0m\n\u001B[0;32m    187\u001B[0m \u001B[1;33m\u001B[0m\u001B[0m\n",
      "\u001B[1;32m~\\Miniconda3\\envs\\Musicc\\lib\\site-packages\\numpy\\fft\\_pocketfft.py\u001B[0m in \u001B[0;36m_raw_fft\u001B[1;34m(a, n, axis, is_real, is_forward, inv_norm)\u001B[0m\n\u001B[0;32m     75\u001B[0m     \u001B[1;32melse\u001B[0m\u001B[1;33m:\u001B[0m\u001B[1;33m\u001B[0m\u001B[1;33m\u001B[0m\u001B[0m\n\u001B[0;32m     76\u001B[0m         \u001B[0ma\u001B[0m \u001B[1;33m=\u001B[0m \u001B[0mswapaxes\u001B[0m\u001B[1;33m(\u001B[0m\u001B[0ma\u001B[0m\u001B[1;33m,\u001B[0m \u001B[0maxis\u001B[0m\u001B[1;33m,\u001B[0m \u001B[1;33m-\u001B[0m\u001B[1;36m1\u001B[0m\u001B[1;33m)\u001B[0m\u001B[1;33m\u001B[0m\u001B[1;33m\u001B[0m\u001B[0m\n\u001B[1;32m---> 77\u001B[1;33m         \u001B[0mr\u001B[0m \u001B[1;33m=\u001B[0m \u001B[0mpfi\u001B[0m\u001B[1;33m.\u001B[0m\u001B[0mexecute\u001B[0m\u001B[1;33m(\u001B[0m\u001B[0ma\u001B[0m\u001B[1;33m,\u001B[0m \u001B[0mis_real\u001B[0m\u001B[1;33m,\u001B[0m \u001B[0mis_forward\u001B[0m\u001B[1;33m,\u001B[0m \u001B[0mfct\u001B[0m\u001B[1;33m)\u001B[0m\u001B[1;33m\u001B[0m\u001B[1;33m\u001B[0m\u001B[0m\n\u001B[0m\u001B[0;32m     78\u001B[0m         \u001B[0mr\u001B[0m \u001B[1;33m=\u001B[0m \u001B[0mswapaxes\u001B[0m\u001B[1;33m(\u001B[0m\u001B[0mr\u001B[0m\u001B[1;33m,\u001B[0m \u001B[0maxis\u001B[0m\u001B[1;33m,\u001B[0m \u001B[1;33m-\u001B[0m\u001B[1;36m1\u001B[0m\u001B[1;33m)\u001B[0m\u001B[1;33m\u001B[0m\u001B[1;33m\u001B[0m\u001B[0m\n\u001B[0;32m     79\u001B[0m     \u001B[1;32mreturn\u001B[0m \u001B[0mr\u001B[0m\u001B[1;33m\u001B[0m\u001B[1;33m\u001B[0m\u001B[0m\n",
      "\u001B[1;31mKeyboardInterrupt\u001B[0m: "
     ]
    }
   ],
   "source": [
    "import librosa\n",
    "\n",
    "from components.specimen import Evolution\n",
    "\n",
    "#specimen_length = 660984\n",
    "specimen_length = 660719\n",
    "evolution = Evolution(neural_networks=[network_mel, network_tempo, network_rms, network_mfcc, network_chroma],\n",
    "                      features_list=[librosa.feature.melspectrogram, librosa.feature.tempogram, librosa.feature.rms,\n",
    "                                     librosa.feature.mfcc, librosa.feature.chroma_stft],\n",
    "                      number_of_specimen=100,\n",
    "                      specimen_length=specimen_length, target=None, mutation_chance=0.1, crossover_chance=0.1)\n",
    "evolution.run_epochs(number_of_epochs=100, save=True, save_as_negative=False, epsilon=0.2)"
   ],
   "metadata": {
    "collapsed": false,
    "pycharm": {
     "name": "#%% Evo algorithm\n"
    }
   }
  },
  {
   "cell_type": "code",
   "execution_count": null,
   "outputs": [],
   "source": [
    "evolution.run_epochs(number_of_epochs=100, save=True, save_as_negative=False, epsilon=0.2)\n",
    "\n"
   ],
   "metadata": {
    "collapsed": false,
    "pycharm": {
     "name": "#%% Run even more epochs!\n"
    }
   }
  }
 ],
 "metadata": {
  "kernelspec": {
   "display_name": "Python 3",
   "language": "python",
   "name": "python3"
  },
  "language_info": {
   "codemirror_mode": {
    "name": "ipython",
    "version": 2
   },
   "file_extension": ".py",
   "mimetype": "text/x-python",
   "name": "python",
   "nbconvert_exporter": "python",
   "pygments_lexer": "ipython2",
   "version": "2.7.6"
  }
 },
 "nbformat": 4,
 "nbformat_minor": 0
}