{
 "cells": [
  {
   "cell_type": "code",
   "execution_count": null,
   "metadata": {
    "collapsed": true,
    "pycharm": {
     "name": "#%% Prepare positive examples and save them to a file\n"
    }
   },
   "outputs": [],
   "source": [
    "import numpy as np\n",
    "import os\n",
    "from components.network import Network\n",
    "from components.helper import Helper\n",
    "\n",
    "positives = Helper.get_positives(number_of_samples=500)\n",
    "filepath = os.path.join(os.path.pardir, 'data/train_test_file_small.npz')\n",
    "np.savez(filepath, positives=positives)"
   ]
  },
  {
   "cell_type": "code",
   "execution_count": 1,
   "outputs": [
    {
     "name": "stdout",
     "output_type": "stream",
     "text": [
      "Number of all negative samples: 501\n",
      "Length of the specimen should be 660719\n",
      "Started feature: <function melspectrogram at 0x0000019F24B8FA60>\n",
      "Finished feature: <function melspectrogram at 0x0000019F24B8FA60>\n",
      "Started feature: <function tempogram at 0x0000019F24B8FB80>\n",
      "Finished feature: <function tempogram at 0x0000019F24B8FB80>\n",
      "Started feature: <function rms at 0x0000019F24B8F4C0>\n",
      "Finished feature: <function rms at 0x0000019F24B8F4C0>\n",
      "Started feature: <function mfcc at 0x0000019F24B8F9D0>\n",
      "Finished feature: <function mfcc at 0x0000019F24B8F9D0>\n",
      "Started feature: <function chroma_stft at 0x0000019F24B8F700>\n",
      "Finished feature: <function chroma_stft at 0x0000019F24B8F700>\n",
      "Started feature: <function plp at 0x0000019F24B91160>\n",
      "Finished feature: <function plp at 0x0000019F24B91160>\n",
      "Started feature: <function melspectrogram at 0x0000019F24B8FA60>\n",
      "Finished feature: <function melspectrogram at 0x0000019F24B8FA60>\n",
      "Started feature: <function tempogram at 0x0000019F24B8FB80>\n",
      "Finished feature: <function tempogram at 0x0000019F24B8FB80>\n",
      "Started feature: <function rms at 0x0000019F24B8F4C0>\n",
      "Finished feature: <function rms at 0x0000019F24B8F4C0>\n",
      "Started feature: <function mfcc at 0x0000019F24B8F9D0>\n",
      "Finished feature: <function mfcc at 0x0000019F24B8F9D0>\n",
      "Started feature: <function chroma_stft at 0x0000019F24B8F700>\n",
      "Finished feature: <function chroma_stft at 0x0000019F24B8F700>\n",
      "Started feature: <function plp at 0x0000019F24B91160>\n",
      "Finished feature: <function plp at 0x0000019F24B91160>\n"
     ]
    }
   ],
   "source": [
    "import os\n",
    "import numpy as np\n",
    "import librosa\n",
    "from components.helper import Helper\n",
    "\n",
    "filepath = os.path.join(os.path.pardir, 'data/train_test_file_small.npz')\n",
    "file = np.load(filepath, allow_pickle=True)\n",
    "positives = file['positives']\n",
    "negatives = Helper.get_negatives(500, sample_length=660719)\n",
    "train, test = Helper.prepare_dataset(positives, negatives, train_to_test_ratio=0.8)\n",
    "\n",
    "features = [librosa.feature.melspectrogram, librosa.feature.tempogram, librosa.feature.rms, librosa.feature.mfcc,\n",
    "            librosa.feature.chroma_stft, librosa.beat.plp]\n",
    "\n",
    "train_features = Helper.get_data_list_of_all_features(features, train)\n",
    "test_features = Helper.get_data_list_of_all_features(features, test)"
   ],
   "metadata": {
    "collapsed": false,
    "pycharm": {
     "name": "#%% Load saved positives and get negatives\n"
    }
   }
  },
  {
   "cell_type": "code",
   "execution_count": null,
   "outputs": [],
   "source": [
    "from components.network import Network\n",
    "\n",
    "network_mel = Network(input_shape=x_train_mel[0].shape)\n",
    "network_tempo = Network(input_shape=x_train_tempo[0].shape)\n",
    "network_rms = Network(input_shape=x_train_rms[0].shape)\n",
    "network_mfcc = Network(input_shape=x_train_mfcc[0].shape)\n",
    "network_chroma = Network(input_shape=x_train_chroma[0].shape)"
   ],
   "metadata": {
    "collapsed": false,
    "pycharm": {
     "name": "#%% Create networks\n"
    }
   }
  },
  {
   "cell_type": "code",
   "execution_count": null,
   "outputs": [],
   "source": [
    "import os\n",
    "from components.network import Network\n",
    "\n",
    "network_mel = Network(input_shape=(128, 1291))\n",
    "network_tempo = Network(input_shape=(384, 1291))\n",
    "network_rms = Network(input_shape=(1, 1291))\n",
    "network_mfcc = Network(input_shape=(20, 1291))\n",
    "network_chroma = Network(input_shape=(12, 1291))\n",
    "network_plp = Network(input_shape=(1291, ))\n",
    "\n",
    "network_mel.load_model(os.path.join(os.path.pardir, 'models/model_mel'))\n",
    "network_tempo.load_model(os.path.join(os.path.pardir, 'models/model_tempo'))\n",
    "network_rms.load_model(os.path.join(os.path.pardir, 'models/model_rms'))\n",
    "network_mfcc.load_model(os.path.join(os.path.pardir, 'models/model_mfcc'))\n",
    "network_chroma.load_model(os.path.join(os.path.pardir, 'models/model_chroma'))"
   ],
   "metadata": {
    "collapsed": false,
    "pycharm": {
     "name": "#%% Network loading\n"
    }
   }
  },
  {
   "cell_type": "code",
   "execution_count": null,
   "outputs": [],
   "source": [
    "network_mel.train(x_train_mel, y_train_mel, epochs=50, batch_size=100)\n",
    "network_tempo.train(x_train_tempo, y_train_tempo, epochs=50, batch_size=100)\n",
    "network_rms.train(x_train_rms, y_train_rms, epochs=50, batch_size=100)\n",
    "network_mfcc.train(x_train_mfcc, y_train_mfcc, epochs=50, batch_size=100)\n",
    "network_chroma.train(x_train_chroma, y_train_chroma, epochs=50, batch_size=100)\n",
    "\n",
    "network_mel.evaluate(x_test_mel, y_test_mel)\n",
    "network_tempo.evaluate(x_test_tempo, y_test_tempo)\n",
    "network_rms.evaluate(x_test_rms, y_test_rms)\n",
    "network_mfcc.evaluate(x_test_mfcc, y_test_mfcc)\n",
    "network_chroma.evaluate(x_test_chroma, y_test_chroma)"
   ],
   "metadata": {
    "collapsed": false,
    "pycharm": {
     "name": "#%% Train networks\n"
    }
   }
  },
  {
   "cell_type": "code",
   "execution_count": null,
   "outputs": [],
   "source": [
    "import os\n",
    "\n",
    "network_mel.save_model(os.path.join(os.path.pardir, f'models/model_mel'))\n",
    "network_tempo.save_model(os.path.join(os.path.pardir, f'models/model_tempo'))\n",
    "network_rms.save_model(os.path.join(os.path.pardir, f'models/model_rms'))\n",
    "network_mfcc.save_model(os.path.join(os.path.pardir, f'models/model_mfcc'))\n",
    "network_chroma.save_model(os.path.join(os.path.pardir, f'models/model_chroma'))"
   ],
   "metadata": {
    "collapsed": false,
    "pycharm": {
     "name": "#%% Save model\n"
    }
   }
  },
  {
   "cell_type": "code",
   "execution_count": null,
   "outputs": [],
   "source": [
    "import librosa\n",
    "\n",
    "from components.specimen import Evolution\n",
    "\n",
    "#specimen_length = 660984\n",
    "specimen_length = 660719\n",
    "evolution = Evolution(neural_networks=[network_mel, network_tempo, network_rms, network_mfcc, network_chroma],\n",
    "                      features_list=[librosa.feature.melspectrogram, librosa.feature.tempogram, librosa.feature.rms,\n",
    "                                     librosa.feature.mfcc, librosa.feature.chroma_stft],\n",
    "                      number_of_specimen=100,\n",
    "                      specimen_length=specimen_length, mutation_chance=0.1, crossover_chance=0.1)\n",
    "evolution.run_epochs(number_of_epochs=100, save=True, save_as_negative=False, epsilon=0.01)"
   ],
   "metadata": {
    "collapsed": false,
    "pycharm": {
     "name": "#%% Evo algorithm\n"
    }
   }
  },
  {
   "cell_type": "code",
   "execution_count": null,
   "outputs": [],
   "source": [
    "evolution.run_epochs(number_of_epochs=100, save=True, save_as_negative=False, epsilon=0.01)\n",
    "\n"
   ],
   "metadata": {
    "collapsed": false,
    "pycharm": {
     "name": "#%% Run even more epochs!\n"
    }
   }
  }
 ],
 "metadata": {
  "kernelspec": {
   "display_name": "Python 3",
   "language": "python",
   "name": "python3"
  },
  "language_info": {
   "codemirror_mode": {
    "name": "ipython",
    "version": 2
   },
   "file_extension": ".py",
   "mimetype": "text/x-python",
   "name": "python",
   "nbconvert_exporter": "python",
   "pygments_lexer": "ipython2",
   "version": "2.7.6"
  }
 },
 "nbformat": 4,
 "nbformat_minor": 0
}